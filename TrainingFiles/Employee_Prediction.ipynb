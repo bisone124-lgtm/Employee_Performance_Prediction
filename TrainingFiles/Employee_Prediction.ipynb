{
 "cells": [
  {
   "cell_type": "markdown",
   "id": "61566fa6",
   "metadata": {},
   "source": [
    "# Employee Performance Prediction - Training Notebook\n",
    "\n",
    "This notebook recreates the pipeline used in the demo project:\n",
    "- Load dataset\n",
    "- Preprocess (OneHot + StandardScaler)\n",
    "- Train RandomForest pipeline\n",
    "- Evaluate and save the pipeline (model_pipeline.pkl)\n"
   ]
  },
  {
   "cell_type": "code",
   "id": "a308106b",
   "metadata": {
    "ExecuteTime": {
     "end_time": "2025-10-06T19:11:08.489546Z",
     "start_time": "2025-10-06T19:11:07.357823Z"
    }
   },
   "source": [
    "import pandas as pd\n",
    "df = pd.read_csv(\"C:/Users/ASUS/Desktop/Project_Demo/Dataset/employee_performance.csv\")\n",
    "df.head()"
   ],
   "outputs": [
    {
     "data": {
      "text/plain": [
       "  employee_id  age education_level department    job_role  years_experience  \\\n",
       "0      E10000   25     High School         IT    Engineer                 7   \n",
       "1      E10001   51       Bachelors    Finance    Operator                34   \n",
       "2      E10002   46     High School         IT   Executive                25   \n",
       "3      E10003   38     High School         IT     Analyst                16   \n",
       "4      E10004   38       Bachelors        R&D  Technician                21   \n",
       "\n",
       "   training_hours  avg_monthly_hours  satisfaction_level  \\\n",
       "0              42                188               0.560   \n",
       "1              49                243               0.553   \n",
       "2              46                184               0.706   \n",
       "3              38                181               0.707   \n",
       "4              37                170               0.559   \n",
       "\n",
       "   last_performance_score  absenteeism_days  promotion_last_5yrs  \\\n",
       "0                       3                 2                    1   \n",
       "1                       3                 4                    0   \n",
       "2                       1                 1                    0   \n",
       "3                       4                 2                    0   \n",
       "4                       2                 3                    0   \n",
       "\n",
       "  performance_label  \n",
       "0            Medium  \n",
       "1            Medium  \n",
       "2               Low  \n",
       "3            Medium  \n",
       "4               Low  "
      ],
      "text/html": [
       "<div>\n",
       "<style scoped>\n",
       "    .dataframe tbody tr th:only-of-type {\n",
       "        vertical-align: middle;\n",
       "    }\n",
       "\n",
       "    .dataframe tbody tr th {\n",
       "        vertical-align: top;\n",
       "    }\n",
       "\n",
       "    .dataframe thead th {\n",
       "        text-align: right;\n",
       "    }\n",
       "</style>\n",
       "<table border=\"1\" class=\"dataframe\">\n",
       "  <thead>\n",
       "    <tr style=\"text-align: right;\">\n",
       "      <th></th>\n",
       "      <th>employee_id</th>\n",
       "      <th>age</th>\n",
       "      <th>education_level</th>\n",
       "      <th>department</th>\n",
       "      <th>job_role</th>\n",
       "      <th>years_experience</th>\n",
       "      <th>training_hours</th>\n",
       "      <th>avg_monthly_hours</th>\n",
       "      <th>satisfaction_level</th>\n",
       "      <th>last_performance_score</th>\n",
       "      <th>absenteeism_days</th>\n",
       "      <th>promotion_last_5yrs</th>\n",
       "      <th>performance_label</th>\n",
       "    </tr>\n",
       "  </thead>\n",
       "  <tbody>\n",
       "    <tr>\n",
       "      <th>0</th>\n",
       "      <td>E10000</td>\n",
       "      <td>25</td>\n",
       "      <td>High School</td>\n",
       "      <td>IT</td>\n",
       "      <td>Engineer</td>\n",
       "      <td>7</td>\n",
       "      <td>42</td>\n",
       "      <td>188</td>\n",
       "      <td>0.560</td>\n",
       "      <td>3</td>\n",
       "      <td>2</td>\n",
       "      <td>1</td>\n",
       "      <td>Medium</td>\n",
       "    </tr>\n",
       "    <tr>\n",
       "      <th>1</th>\n",
       "      <td>E10001</td>\n",
       "      <td>51</td>\n",
       "      <td>Bachelors</td>\n",
       "      <td>Finance</td>\n",
       "      <td>Operator</td>\n",
       "      <td>34</td>\n",
       "      <td>49</td>\n",
       "      <td>243</td>\n",
       "      <td>0.553</td>\n",
       "      <td>3</td>\n",
       "      <td>4</td>\n",
       "      <td>0</td>\n",
       "      <td>Medium</td>\n",
       "    </tr>\n",
       "    <tr>\n",
       "      <th>2</th>\n",
       "      <td>E10002</td>\n",
       "      <td>46</td>\n",
       "      <td>High School</td>\n",
       "      <td>IT</td>\n",
       "      <td>Executive</td>\n",
       "      <td>25</td>\n",
       "      <td>46</td>\n",
       "      <td>184</td>\n",
       "      <td>0.706</td>\n",
       "      <td>1</td>\n",
       "      <td>1</td>\n",
       "      <td>0</td>\n",
       "      <td>Low</td>\n",
       "    </tr>\n",
       "    <tr>\n",
       "      <th>3</th>\n",
       "      <td>E10003</td>\n",
       "      <td>38</td>\n",
       "      <td>High School</td>\n",
       "      <td>IT</td>\n",
       "      <td>Analyst</td>\n",
       "      <td>16</td>\n",
       "      <td>38</td>\n",
       "      <td>181</td>\n",
       "      <td>0.707</td>\n",
       "      <td>4</td>\n",
       "      <td>2</td>\n",
       "      <td>0</td>\n",
       "      <td>Medium</td>\n",
       "    </tr>\n",
       "    <tr>\n",
       "      <th>4</th>\n",
       "      <td>E10004</td>\n",
       "      <td>38</td>\n",
       "      <td>Bachelors</td>\n",
       "      <td>R&amp;D</td>\n",
       "      <td>Technician</td>\n",
       "      <td>21</td>\n",
       "      <td>37</td>\n",
       "      <td>170</td>\n",
       "      <td>0.559</td>\n",
       "      <td>2</td>\n",
       "      <td>3</td>\n",
       "      <td>0</td>\n",
       "      <td>Low</td>\n",
       "    </tr>\n",
       "  </tbody>\n",
       "</table>\n",
       "</div>"
      ]
     },
     "execution_count": 1,
     "metadata": {},
     "output_type": "execute_result"
    }
   ],
   "execution_count": 1
  },
  {
   "cell_type": "code",
   "id": "e3c5c166",
   "metadata": {
    "ExecuteTime": {
     "end_time": "2025-10-06T19:11:11.362335Z",
     "start_time": "2025-10-06T19:11:08.569456Z"
    }
   },
   "source": [
    "from sklearn.model_selection import train_test_split\n",
    "feature_cols = ['age', 'education_level', 'department', 'job_role', 'years_experience', 'training_hours', 'avg_monthly_hours', 'satisfaction_level', 'last_performance_score', 'absenteeism_days', 'promotion_last_5yrs']\n",
    "X = df[feature_cols]\n",
    "y = df[\"performance_label\"]\n",
    "X_train, X_test, y_train, y_test = train_test_split(X, y, test_size=0.2, random_state=42, stratify=y)\n",
    "X_train.shape, X_test.shape"
   ],
   "outputs": [
    {
     "data": {
      "text/plain": [
       "((1600, 11), (400, 11))"
      ]
     },
     "execution_count": 2,
     "metadata": {},
     "output_type": "execute_result"
    }
   ],
   "execution_count": 2
  },
  {
   "cell_type": "code",
   "id": "ebb7afd7",
   "metadata": {
    "ExecuteTime": {
     "end_time": "2025-10-06T19:11:12.636651Z",
     "start_time": "2025-10-06T19:11:11.449522Z"
    }
   },
   "source": [
    "from sklearn.pipeline import Pipeline\n",
    "from sklearn.compose import ColumnTransformer\n",
    "from sklearn.preprocessing import OneHotEncoder, StandardScaler\n",
    "from sklearn.ensemble import RandomForestClassifier\n",
    "import joblib\n",
    "\n",
    "cat_cols = ['education_level','department','job_role']\n",
    "num_cols = [c for c in feature_cols if c not in cat_cols]\n",
    "\n",
    "preprocessor = ColumnTransformer([('cat', OneHotEncoder(handle_unknown='ignore', sparse_output=False), cat_cols),\n",
    "                                  ('num', StandardScaler(), num_cols)],\n",
    "                                 remainder='drop')\n",
    "\n",
    "pipeline = Pipeline([('preprocessor', preprocessor), ('clf', RandomForestClassifier(n_estimators=150, random_state=42))])\n",
    "pipeline.fit(X_train, y_train)\n",
    "joblib.dump(pipeline, \"C:/Users/ASUS/Desktop/Project_Demo/Flask/model.pkl\")\n",
    "print(\"Model saved successfully!\")"
   ],
   "outputs": [
    {
     "name": "stdout",
     "output_type": "stream",
     "text": [
      "Model saved successfully!\n"
     ]
    }
   ],
   "execution_count": 3
  },
  {
   "cell_type": "code",
   "id": "e8adf2f6",
   "metadata": {
    "ExecuteTime": {
     "end_time": "2025-10-06T19:11:12.713702Z",
     "start_time": "2025-10-06T19:11:12.654998Z"
    }
   },
   "source": [
    "from sklearn.metrics import classification_report, accuracy_score\n",
    "y_pred = pipeline.predict(X_test)\n",
    "print(\"Accuracy:\", accuracy_score(y_test, y_pred))\n",
    "print(classification_report(y_test, y_pred))"
   ],
   "outputs": [
    {
     "name": "stdout",
     "output_type": "stream",
     "text": [
      "Accuracy: 0.8025\n",
      "              precision    recall  f1-score   support\n",
      "\n",
      "        High       0.85      0.28      0.42        39\n",
      "         Low       0.87      0.71      0.78       123\n",
      "      Medium       0.78      0.94      0.85       238\n",
      "\n",
      "    accuracy                           0.80       400\n",
      "   macro avg       0.83      0.64      0.68       400\n",
      "weighted avg       0.81      0.80      0.79       400\n",
      "\n"
     ]
    }
   ],
   "execution_count": 4
  }
 ],
 "metadata": {
  "kernelspec": {
   "name": "python3",
   "language": "python",
   "display_name": "Python 3 (ipykernel)"
  }
 },
 "nbformat": 4,
 "nbformat_minor": 5
}
